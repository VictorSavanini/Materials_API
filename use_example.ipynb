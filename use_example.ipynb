{
 "cells": [
  {
   "cell_type": "code",
   "execution_count": null,
   "metadata": {},
   "outputs": [],
   "source": [
    "from mp_database import MaterialsReader"
   ]
  },
  {
   "cell_type": "code",
   "execution_count": 4,
   "metadata": {},
   "outputs": [],
   "source": [
    "mr = MaterialsReader()"
   ]
  },
  {
   "cell_type": "code",
   "execution_count": 5,
   "metadata": {},
   "outputs": [
    {
     "data": {
      "text/plain": [
       "{'id': int,\n",
       " 'material_id': str,\n",
       " 'formula': str,\n",
       " 'n_elements': int,\n",
       " 'n_atoms': int,\n",
       " 'composition': str,\n",
       " 'volume': float,\n",
       " 'density': float,\n",
       " 'atomic_density': float,\n",
       " 'symetry': str,\n",
       " 'symetry_symbol': str,\n",
       " 'symetry_number': int,\n",
       " 'is_stable': bool,\n",
       " 'is_magnetic': bool,\n",
       " 'is_metal': bool,\n",
       " 'is_gap_direct': bool,\n",
       " 'energy_per_atom': float,\n",
       " 'efermi': float,\n",
       " 'total_magnetization': float,\n",
       " 'lattice_structure': str,\n",
       " 'element_coords': str,\n",
       " 'dos_at_efermi': float,\n",
       " 'elements_dos_at_efermi': str,\n",
       " 'last_updated': datetime.datetime,\n",
       " 'deprecated': bool}"
      ]
     },
     "execution_count": 5,
     "metadata": {},
     "output_type": "execute_result"
    }
   ],
   "source": [
    "# Colunas disponíveis para filtro:\n",
    "# Available filter columns:\n",
    "mr.cols"
   ]
  },
  {
   "cell_type": "code",
   "execution_count": 27,
   "metadata": {},
   "outputs": [
    {
     "data": {
      "text/html": [
       "<div>\n",
       "<style scoped>\n",
       "    .dataframe tbody tr th:only-of-type {\n",
       "        vertical-align: middle;\n",
       "    }\n",
       "\n",
       "    .dataframe tbody tr th {\n",
       "        vertical-align: top;\n",
       "    }\n",
       "\n",
       "    .dataframe thead th {\n",
       "        text-align: right;\n",
       "    }\n",
       "</style>\n",
       "<table border=\"1\" class=\"dataframe\">\n",
       "  <thead>\n",
       "    <tr style=\"text-align: right;\">\n",
       "      <th></th>\n",
       "      <th>formula</th>\n",
       "      <th>density</th>\n",
       "      <th>efermi</th>\n",
       "      <th>dos_at_efermi</th>\n",
       "    </tr>\n",
       "  </thead>\n",
       "  <tbody>\n",
       "    <tr>\n",
       "      <th>0</th>\n",
       "      <td>LaInPd</td>\n",
       "      <td>7.703326</td>\n",
       "      <td>7.375820</td>\n",
       "      <td>9.482925</td>\n",
       "    </tr>\n",
       "    <tr>\n",
       "      <th>1</th>\n",
       "      <td>HoInPd</td>\n",
       "      <td>9.965253</td>\n",
       "      <td>5.794544</td>\n",
       "      <td>9.910718</td>\n",
       "    </tr>\n",
       "    <tr>\n",
       "      <th>2</th>\n",
       "      <td>SmInPd</td>\n",
       "      <td>9.098930</td>\n",
       "      <td>5.653912</td>\n",
       "      <td>8.886701</td>\n",
       "    </tr>\n",
       "    <tr>\n",
       "      <th>3</th>\n",
       "      <td>NdInPd</td>\n",
       "      <td>8.305729</td>\n",
       "      <td>5.603799</td>\n",
       "      <td>8.181031</td>\n",
       "    </tr>\n",
       "    <tr>\n",
       "      <th>4</th>\n",
       "      <td>ErInPd</td>\n",
       "      <td>10.131216</td>\n",
       "      <td>5.815687</td>\n",
       "      <td>8.235348</td>\n",
       "    </tr>\n",
       "  </tbody>\n",
       "</table>\n",
       "</div>"
      ],
      "text/plain": [
       "  formula    density    efermi  dos_at_efermi\n",
       "0  LaInPd   7.703326  7.375820       9.482925\n",
       "1  HoInPd   9.965253  5.794544       9.910718\n",
       "2  SmInPd   9.098930  5.653912       8.886701\n",
       "3  NdInPd   8.305729  5.603799       8.181031\n",
       "4  ErInPd  10.131216  5.815687       8.235348"
      ]
     },
     "execution_count": 27,
     "metadata": {},
     "output_type": "execute_result"
    }
   ],
   "source": [
    "mr = MaterialsReader()\n",
    "mr.read_mp(\n",
    "    columns=[\"formula\", \"density\", \"efermi\", \"dos_at_efermi\"],\n",
    "    composition=[\"In\", \"Pd\"],\n",
    "    dos_at_efermi=[8, 10],\n",
    "    symetry_number=189,\n",
    "    is_magnetic=False,\n",
    ")"
   ]
  },
  {
   "cell_type": "code",
   "execution_count": null,
   "metadata": {},
   "outputs": [],
   "source": []
  }
 ],
 "metadata": {
  "kernelspec": {
   "display_name": "Python 3",
   "language": "python",
   "name": "python3"
  },
  "language_info": {
   "codemirror_mode": {
    "name": "ipython",
    "version": 3
   },
   "file_extension": ".py",
   "mimetype": "text/x-python",
   "name": "python",
   "nbconvert_exporter": "python",
   "pygments_lexer": "ipython3",
   "version": "3.10.7"
  }
 },
 "nbformat": 4,
 "nbformat_minor": 2
}
