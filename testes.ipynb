{
 "cells": [
  {
   "cell_type": "code",
   "execution_count": 1,
   "metadata": {},
   "outputs": [
    {
     "name": "stderr",
     "output_type": "stream",
     "text": [
      "c:\\Users\\vsavanini\\AppData\\Local\\Programs\\Python\\Python310\\lib\\site-packages\\tqdm\\auto.py:21: TqdmWarning: IProgress not found. Please update jupyter and ipywidgets. See https://ipywidgets.readthedocs.io/en/stable/user_install.html\n",
      "  from .autonotebook import tqdm as notebook_tqdm\n"
     ]
    }
   ],
   "source": [
    "from mp_api.client import MPRester\n",
    "\n",
    "key = \"qx3M9lC8cMaGU3gp0ZpKSPor69SxkCU9\""
   ]
  },
  {
   "cell_type": "code",
   "execution_count": 2,
   "metadata": {},
   "outputs": [],
   "source": [
    "import plotly.graph_objects as go\n",
    "import pandas as pd\n",
    "import time\n",
    "from numpy import mean"
   ]
  },
  {
   "cell_type": "markdown",
   "metadata": {},
   "source": [
    "### Utilizando API para coletar dados de todos os materiais"
   ]
  },
  {
   "cell_type": "code",
   "execution_count": 3,
   "metadata": {},
   "outputs": [
    {
     "name": "stderr",
     "output_type": "stream",
     "text": [
      "c:\\Users\\vsavanini\\AppData\\Local\\Programs\\Python\\Python310\\lib\\site-packages\\mp_api\\client\\mprester.py:227: UserWarning: mpcontribs-client not installed. Install the package to query MPContribs data, or construct pourbaix diagrams: 'pip install mpcontribs-client'\n",
      "  warnings.warn(\n",
      "C:\\Users\\vsavanini\\AppData\\Local\\Temp\\ipykernel_13180\\2403189645.py:7: DeprecationWarning: Accessing summary data through MPRester.summary is deprecated. Please use MPRester.materials.summary instead.\n",
      "  ms = mpr.summary.search()\n",
      "Retrieving SummaryDoc documents:   0%|          | 0/154718 [00:00<?, ?it/s]c:\\Users\\vsavanini\\AppData\\Local\\Programs\\Python\\Python310\\lib\\site-packages\\mp_api\\client\\core\\client.py:663: UserWarning: Use the 'fields' argument to select only fields of interest to speed up data retrieval for large queries. Choose from: ['builder_meta', 'nsites', 'elements', 'nelements', 'composition', 'composition_reduced', 'formula_pretty', 'formula_anonymous', 'chemsys', 'volume', 'density', 'density_atomic', 'symmetry', 'property_name', 'material_id', 'deprecated', 'deprecation_reasons', 'last_updated', 'origins', 'warnings', 'structure', 'task_ids', 'uncorrected_energy_per_atom', 'energy_per_atom', 'formation_energy_per_atom', 'energy_above_hull', 'is_stable', 'equilibrium_reaction_energy_per_atom', 'decomposes_to', 'xas', 'grain_boundaries', 'band_gap', 'cbm', 'vbm', 'efermi', 'is_gap_direct', 'is_metal', 'es_source_calc_id', 'bandstructure', 'dos', 'dos_energy_up', 'dos_energy_down', 'is_magnetic', 'ordering', 'total_magnetization', 'total_magnetization_normalized_vol', 'total_magnetization_normalized_formula_units', 'num_magnetic_sites', 'num_unique_magnetic_sites', 'types_of_magnetic_species', 'k_voigt', 'k_reuss', 'k_vrh', 'g_voigt', 'g_reuss', 'g_vrh', 'universal_anisotropy', 'homogeneous_poisson', 'e_total', 'e_ionic', 'e_electronic', 'n', 'e_ij_max', 'weighted_surface_energy_EV_PER_ANG2', 'weighted_surface_energy', 'weighted_work_function', 'surface_anisotropy', 'shape_factor', 'has_reconstructed', 'possible_species', 'has_props', 'theoretical', 'database_IDs']\n",
      "  warnings.warn(\n",
      "Retrieving SummaryDoc documents: 100%|██████████| 154718/154718 [11:18<00:00, 227.92it/s]\n"
     ]
    }
   ],
   "source": [
    "with MPRester(key) as mpr:\n",
    "    # material = \"mp-20138\"\n",
    "    # dossi = mpr.get_dos_by_material_id(\"mp-149\")\n",
    "    # dos = mpr.get_dos_by_material_id(material)\n",
    "    # fp = dos.get_dos_fp()\n",
    "\n",
    "    ms = mpr.summary.search()"
   ]
  },
  {
   "cell_type": "markdown",
   "metadata": {},
   "source": [
    "### Funções para encontrar as densidades"
   ]
  },
  {
   "cell_type": "code",
   "execution_count": 4,
   "metadata": {},
   "outputs": [],
   "source": [
    "def find_zero(df):\n",
    "    def interpol(dfi: pd.DataFrame):\n",
    "        dfi.reset_index(drop=True, inplace=True)\n",
    "        return -(\n",
    "            dfi.energies[0] * dfi.densities[1] - dfi.energies[1] * dfi.densities[0]\n",
    "        ) / (dfi.energies[1] - dfi.energies[0])\n",
    "\n",
    "    serie = (\n",
    "        df.reset_index(drop=True).energies.shift(1) * df.reset_index(drop=True).energies\n",
    "    )\n",
    "    turn_point = serie[serie < 0].index[0]\n",
    "\n",
    "    return interpol(df[turn_point - 1 : turn_point + 1])"
   ]
  },
  {
   "cell_type": "code",
   "execution_count": 5,
   "metadata": {},
   "outputs": [],
   "source": [
    "# Encontrar DOS na Efermi para cada elemento\n",
    "def get_dos_at_efermi(material_id: str) -> pd.DataFrame:\n",
    "    \"Encontra \"\n",
    "    dos = mpr.get_dos_by_material_id(material_id)\n",
    "    ed = dos.get_element_dos()\n",
    "\n",
    "    element_values = {}\n",
    "    for element in ed:\n",
    "        e_dos = ed[element]\n",
    "        e_df = pd.DataFrame(\n",
    "            {\n",
    "                \"energies\": e_dos.energies - e_dos.efermi,\n",
    "                \"densities\": e_dos.get_densities(),\n",
    "            }\n",
    "        )\n",
    "        tdt = e_df.query(f\"energies<{dos.efermi/2} & energies>{-dos.efermi/2}\")\n",
    "        element_values[str(element)] = find_zero(tdt)\n",
    "\n",
    "    dg = pd.DataFrame(\n",
    "        {\"energies\": dos.energies - dos.efermi, \"densities\": dos.get_densities()}\n",
    "    )\n",
    "    fdos = dg.query(f\"energies<{dos.efermi/2} & energies>{-dos.efermi/2}\")\n",
    "\n",
    "    return find_zero(fdos), element_values"
   ]
  },
  {
   "cell_type": "code",
   "execution_count": null,
   "metadata": {},
   "outputs": [],
   "source": [
    "def to_sql_list(itens: list) -> str:\n",
    "    \"Converte uma lista Python em uma lista formatada para consultas SQL.\"\n",
    "\n",
    "    def _convert(x):\n",
    "        if isinstance(x, str):\n",
    "            x = x.replace(\"'\", \"''\")\n",
    "            return f\"'{x}'\"\n",
    "        if isna(x):\n",
    "            return \"NULL\"\n",
    "        elif isinstance(x, date):\n",
    "            return f\"'{x}'\"\n",
    "        else:\n",
    "            return str(x)\n",
    "\n",
    "    return f'({\",\".join(map(_convert, itens))})'\n"
   ]
  },
  {
   "cell_type": "markdown",
   "metadata": {},
   "source": [
    "### Coletando dados"
   ]
  },
  {
   "cell_type": "code",
   "execution_count": 9,
   "metadata": {},
   "outputs": [
    {
     "name": "stderr",
     "output_type": "stream",
     "text": [
      "Retrieving ElectronicStructureDoc documents: 100%|██████████| 1/1 [00:00<?, ?it/s]\n",
      "Retrieving ElectronicStructureDoc documents: 100%|██████████| 1/1 [00:00<?, ?it/s]\n",
      "Retrieving ElectronicStructureDoc documents: 100%|██████████| 1/1 [00:00<?, ?it/s]\n",
      "Retrieving ElectronicStructureDoc documents: 100%|██████████| 1/1 [00:00<?, ?it/s]\n",
      "Retrieving ElectronicStructureDoc documents: 100%|██████████| 1/1 [00:00<?, ?it/s]\n",
      "Retrieving ElectronicStructureDoc documents: 100%|██████████| 1/1 [00:00<?, ?it/s]\n",
      "Retrieving ElectronicStructureDoc documents: 100%|██████████| 1/1 [00:00<?, ?it/s]\n",
      "Retrieving ElectronicStructureDoc documents: 100%|██████████| 1/1 [00:00<?, ?it/s]\n",
      "Retrieving ElectronicStructureDoc documents: 100%|██████████| 1/1 [00:00<?, ?it/s]\n",
      "Retrieving ElectronicStructureDoc documents: 100%|██████████| 1/1 [00:00<?, ?it/s]\n",
      "Retrieving ElectronicStructureDoc documents: 100%|██████████| 1/1 [00:00<?, ?it/s]\n",
      "Retrieving ElectronicStructureDoc documents: 100%|██████████| 1/1 [00:00<?, ?it/s]\n",
      "Retrieving ElectronicStructureDoc documents: 100%|██████████| 1/1 [00:00<?, ?it/s]\n",
      "Retrieving ElectronicStructureDoc documents: 100%|██████████| 1/1 [00:00<?, ?it/s]\n",
      "Retrieving ElectronicStructureDoc documents: 100%|██████████| 1/1 [00:00<?, ?it/s]\n",
      "Retrieving ElectronicStructureDoc documents: 100%|██████████| 1/1 [00:00<?, ?it/s]\n",
      "Retrieving ElectronicStructureDoc documents: 100%|██████████| 1/1 [00:00<?, ?it/s]\n",
      "Retrieving ElectronicStructureDoc documents: 100%|██████████| 1/1 [00:00<?, ?it/s]\n",
      "Retrieving ElectronicStructureDoc documents: 100%|██████████| 1/1 [00:00<?, ?it/s]\n",
      "Retrieving ElectronicStructureDoc documents: 100%|██████████| 1/1 [00:00<?, ?it/s]\n",
      "Retrieving ElectronicStructureDoc documents: 100%|██████████| 1/1 [00:00<?, ?it/s]\n",
      "Retrieving ElectronicStructureDoc documents: 100%|██████████| 1/1 [00:00<?, ?it/s]\n",
      "Retrieving ElectronicStructureDoc documents: 100%|██████████| 1/1 [00:00<?, ?it/s]\n",
      "Retrieving ElectronicStructureDoc documents: 100%|██████████| 1/1 [00:00<?, ?it/s]\n",
      "Retrieving ElectronicStructureDoc documents: 100%|██████████| 1/1 [00:00<?, ?it/s]\n",
      "Retrieving ElectronicStructureDoc documents: 100%|██████████| 1/1 [00:00<?, ?it/s]\n",
      "Retrieving ElectronicStructureDoc documents: 100%|██████████| 1/1 [00:00<?, ?it/s]\n",
      "Retrieving ElectronicStructureDoc documents: 100%|██████████| 1/1 [00:00<?, ?it/s]\n",
      "Retrieving ElectronicStructureDoc documents: 100%|██████████| 1/1 [00:00<?, ?it/s]\n",
      "Retrieving ElectronicStructureDoc documents: 100%|██████████| 1/1 [00:00<?, ?it/s]\n",
      "Retrieving ElectronicStructureDoc documents: 100%|██████████| 1/1 [00:00<?, ?it/s]\n",
      "Retrieving ElectronicStructureDoc documents: 100%|██████████| 1/1 [00:00<?, ?it/s]\n",
      "Retrieving ElectronicStructureDoc documents: 100%|██████████| 1/1 [00:00<?, ?it/s]\n",
      "Retrieving ElectronicStructureDoc documents: 100%|██████████| 1/1 [00:00<?, ?it/s]\n",
      "Retrieving ElectronicStructureDoc documents: 100%|██████████| 1/1 [00:00<?, ?it/s]\n",
      "Retrieving ElectronicStructureDoc documents: 100%|██████████| 1/1 [00:00<?, ?it/s]\n",
      "Retrieving ElectronicStructureDoc documents: 100%|██████████| 1/1 [00:00<?, ?it/s]\n",
      "Retrieving ElectronicStructureDoc documents: 100%|██████████| 1/1 [00:00<?, ?it/s]\n",
      "Retrieving ElectronicStructureDoc documents: 100%|██████████| 1/1 [00:00<?, ?it/s]\n",
      "Retrieving ElectronicStructureDoc documents: 100%|██████████| 1/1 [00:00<?, ?it/s]\n",
      "Retrieving ElectronicStructureDoc documents: 100%|██████████| 1/1 [00:00<?, ?it/s]\n",
      "Retrieving ElectronicStructureDoc documents: 100%|██████████| 1/1 [00:00<?, ?it/s]\n",
      "Retrieving ElectronicStructureDoc documents: 100%|██████████| 1/1 [00:00<?, ?it/s]\n",
      "Retrieving ElectronicStructureDoc documents: 100%|██████████| 1/1 [00:00<?, ?it/s]\n",
      "Retrieving ElectronicStructureDoc documents: 100%|██████████| 1/1 [00:00<?, ?it/s]\n",
      "Retrieving ElectronicStructureDoc documents: 100%|██████████| 1/1 [00:00<?, ?it/s]\n",
      "Retrieving ElectronicStructureDoc documents: 100%|██████████| 1/1 [00:00<?, ?it/s]\n",
      "Retrieving ElectronicStructureDoc documents: 100%|██████████| 1/1 [00:00<?, ?it/s]\n",
      "Retrieving ElectronicStructureDoc documents: 100%|██████████| 1/1 [00:00<?, ?it/s]\n",
      "Retrieving ElectronicStructureDoc documents: 100%|██████████| 1/1 [00:00<?, ?it/s]\n",
      "Retrieving ElectronicStructureDoc documents: 100%|██████████| 1/1 [00:00<?, ?it/s]\n",
      "Retrieving ElectronicStructureDoc documents: 100%|██████████| 1/1 [00:00<?, ?it/s]\n",
      "Retrieving ElectronicStructureDoc documents: 100%|██████████| 1/1 [00:00<?, ?it/s]\n",
      "Retrieving ElectronicStructureDoc documents: 100%|██████████| 1/1 [00:00<?, ?it/s]\n",
      "Retrieving ElectronicStructureDoc documents: 100%|██████████| 1/1 [00:00<?, ?it/s]\n",
      "Retrieving ElectronicStructureDoc documents: 100%|██████████| 1/1 [00:00<00:00, 991.56it/s]\n",
      "Retrieving ElectronicStructureDoc documents: 100%|██████████| 1/1 [00:00<?, ?it/s]\n",
      "Retrieving ElectronicStructureDoc documents: 100%|██████████| 1/1 [00:00<?, ?it/s]\n",
      "Retrieving ElectronicStructureDoc documents: 100%|██████████| 1/1 [00:00<?, ?it/s]\n",
      "Retrieving ElectronicStructureDoc documents: 100%|██████████| 1/1 [00:00<?, ?it/s]\n",
      "Retrieving ElectronicStructureDoc documents: 100%|██████████| 1/1 [00:00<?, ?it/s]\n",
      "Retrieving ElectronicStructureDoc documents: 100%|██████████| 1/1 [00:00<?, ?it/s]\n",
      "Retrieving ElectronicStructureDoc documents: 100%|██████████| 1/1 [00:00<?, ?it/s]\n",
      "Retrieving ElectronicStructureDoc documents: 100%|██████████| 1/1 [00:00<?, ?it/s]\n",
      "Retrieving ElectronicStructureDoc documents: 100%|██████████| 1/1 [00:00<?, ?it/s]\n",
      "Retrieving ElectronicStructureDoc documents: 100%|██████████| 1/1 [00:00<?, ?it/s]\n",
      "Retrieving ElectronicStructureDoc documents: 100%|██████████| 1/1 [00:00<?, ?it/s]\n",
      "Retrieving ElectronicStructureDoc documents: 100%|██████████| 1/1 [00:00<?, ?it/s]\n",
      "Retrieving ElectronicStructureDoc documents: 100%|██████████| 1/1 [00:00<?, ?it/s]\n",
      "Retrieving ElectronicStructureDoc documents: 100%|██████████| 1/1 [00:00<?, ?it/s]\n",
      "Retrieving ElectronicStructureDoc documents: 100%|██████████| 1/1 [00:00<?, ?it/s]\n",
      "Retrieving ElectronicStructureDoc documents: 100%|██████████| 1/1 [00:00<?, ?it/s]\n",
      "Retrieving ElectronicStructureDoc documents: 100%|██████████| 1/1 [00:00<?, ?it/s]\n",
      "Retrieving ElectronicStructureDoc documents: 100%|██████████| 1/1 [00:00<?, ?it/s]\n",
      "Retrieving ElectronicStructureDoc documents: 100%|██████████| 1/1 [00:00<?, ?it/s]\n",
      "Retrieving ElectronicStructureDoc documents: 100%|██████████| 1/1 [00:00<?, ?it/s]\n",
      "Retrieving ElectronicStructureDoc documents: 100%|██████████| 1/1 [00:00<?, ?it/s]\n",
      "Retrieving ElectronicStructureDoc documents: 100%|██████████| 1/1 [00:00<?, ?it/s]\n",
      "Retrieving ElectronicStructureDoc documents: 100%|██████████| 1/1 [00:00<?, ?it/s]\n",
      "Retrieving ElectronicStructureDoc documents: 100%|██████████| 1/1 [00:00<?, ?it/s]\n",
      "Retrieving ElectronicStructureDoc documents: 100%|██████████| 1/1 [00:00<?, ?it/s]\n",
      "Retrieving ElectronicStructureDoc documents: 100%|██████████| 1/1 [00:00<?, ?it/s]\n",
      "Retrieving ElectronicStructureDoc documents: 100%|██████████| 1/1 [00:00<?, ?it/s]\n",
      "Retrieving ElectronicStructureDoc documents: 100%|██████████| 1/1 [00:00<?, ?it/s]\n",
      "Retrieving ElectronicStructureDoc documents: 100%|██████████| 1/1 [00:00<?, ?it/s]\n",
      "Retrieving ElectronicStructureDoc documents: 100%|██████████| 1/1 [00:00<?, ?it/s]\n",
      "Retrieving ElectronicStructureDoc documents: 100%|██████████| 1/1 [00:00<?, ?it/s]\n",
      "Retrieving ElectronicStructureDoc documents: 100%|██████████| 1/1 [00:00<?, ?it/s]\n"
     ]
    }
   ],
   "source": [
    "li = []\n",
    "t1 = time.time()\n",
    "for mms in ms:\n",
    "    if time.time() > (t1 + 60):\n",
    "        break\n",
    "\n",
    "    element_coords = {}\n",
    "    for coords in mms.structure.sites:\n",
    "        element_coords[str(coords.specie)] = list(coords.__dict__[\"_frac_coords\"])\n",
    "\n",
    "    try:\n",
    "        all_dos = get_dos_at_efermi(str(mms.material_id))\n",
    "    except:\n",
    "        all_dos = [None, None]\n",
    "\n",
    "    li.append(\n",
    "        [\n",
    "            int(str(mms.material_id)[3:]),\n",
    "            mms.nelements,\n",
    "            str(mms.composition),\n",
    "            mms.formula_pretty,\n",
    "            mms.volume,\n",
    "            mms.density,\n",
    "            mms.density_atomic,\n",
    "            str(mms.symmetry.crystal_system),\n",
    "            mms.symmetry.symbol,\n",
    "            mms.symmetry.number,\n",
    "            str(mms.material_id),\n",
    "            mms.is_stable,\n",
    "            mms.is_magnetic,\n",
    "            mms.is_metal,\n",
    "            mms.is_gap_direct,\n",
    "            mms.energy_per_atom,\n",
    "            mms.efermi,\n",
    "            mms.total_magnetization,\n",
    "            mms.last_updated,\n",
    "            mms.deprecated,\n",
    "            {\n",
    "                \"abc\": list(mms.structure.lattice.abc),\n",
    "                \"angles\": list(mms.structure.lattice.angles),\n",
    "            },\n",
    "            element_coords,\n",
    "            all_dos[0],\n",
    "            all_dos[1],\n",
    "        ]\n",
    "    )\n",
    "\n",
    "all_mp = (\n",
    "    pd.DataFrame(\n",
    "        li,\n",
    "        columns=[\n",
    "            \"id\",\n",
    "            \"n_elements\",\n",
    "            \"composition\",\n",
    "            \"formula\",\n",
    "            \"volume\",\n",
    "            \"density\",\n",
    "            \"atomic_density\",\n",
    "            \"symetry\",\n",
    "            \"symetry_symbol\",\n",
    "            \"symetry_number\",\n",
    "            \"material_id\",\n",
    "            \"is_stable\",\n",
    "            \"is_magnetic\",\n",
    "            \"is_metal\",\n",
    "            \"is_gap_direct\",\n",
    "            \"energy_per_atom\",\n",
    "            \"efermi\",\n",
    "            \"total_magnetization\",\n",
    "            \"last_updated\",\n",
    "            \"deprecated\",\n",
    "            \"lattice_structure\",\n",
    "            \"element_coords\",\n",
    "            \"dos_at_efermi\",\n",
    "            \"elements_dos_at_efermi\",\n",
    "        ],\n",
    "    )\n",
    "    .sort_values(\"id\")\n",
    "    .set_index(\"id\")\n",
    ")"
   ]
  },
  {
   "cell_type": "code",
   "execution_count": 7,
   "metadata": {},
   "outputs": [
    {
     "data": {
      "text/plain": [
       "36.318779342723005"
      ]
     },
     "execution_count": 7,
     "metadata": {},
     "output_type": "execute_result"
    }
   ],
   "source": [
    "len(ms) / len(all_mp) / 60 ## Tempo esperado de demora para upload (em horas)"
   ]
  },
  {
   "cell_type": "code",
   "execution_count": 11,
   "metadata": {},
   "outputs": [],
   "source": [
    "all2 = all_mp[\n",
    "    [\n",
    "        \"material_id\",\n",
    "        \"formula\",\n",
    "        \"n_elements\",\n",
    "        \"composition\",\n",
    "        \"volume\",\n",
    "        \"density\",\n",
    "        \"atomic_density\",\n",
    "        \"symetry\",\n",
    "        \"symetry_symbol\",\n",
    "        \"symetry_number\",\n",
    "        \"is_stable\",\n",
    "        \"is_magnetic\",\n",
    "        \"is_metal\",\n",
    "        \"is_gap_direct\",\n",
    "        \"energy_per_atom\",\n",
    "        \"efermi\",\n",
    "        \"total_magnetization\",\n",
    "        \"lattice_structure\",\n",
    "        \"element_coords\",\n",
    "        \"dos_at_efermi\",\n",
    "        \"elements_dos_at_efermi\",\n",
    "        \"last_updated\",\n",
    "        \"deprecated\",\n",
    "    ]\n",
    "]"
   ]
  },
  {
   "cell_type": "markdown",
   "metadata": {},
   "source": [
    "### Gráficos"
   ]
  },
  {
   "cell_type": "code",
   "execution_count": null,
   "metadata": {},
   "outputs": [],
   "source": [
    "dg = pd.DataFrame(\n",
    "    {\"energies\": dos.energies - dos.efermi, \"densities\": dos.get_densities()}\n",
    ")"
   ]
  },
  {
   "cell_type": "code",
   "execution_count": null,
   "metadata": {},
   "outputs": [],
   "source": [
    "fdos = dg.query(f\"energies<{dos.efermi/2} & energies>{-dos.efermi/2}\")"
   ]
  },
  {
   "cell_type": "code",
   "execution_count": null,
   "metadata": {},
   "outputs": [],
   "source": [
    "go.Figure(\n",
    "    [\n",
    "        # go.Scatter(x=data.energies, y=data.densities*20),\n",
    "        go.Scatter(x=fdos.energies, y=fdos.densities),\n",
    "    ]\n",
    "    + plots\n",
    ")"
   ]
  },
  {
   "cell_type": "markdown",
   "metadata": {},
   "source": [
    "### Criando banco de dados"
   ]
  },
  {
   "cell_type": "code",
   "execution_count": null,
   "metadata": {},
   "outputs": [],
   "source": [
    "all_mp"
   ]
  },
  {
   "cell_type": "code",
   "execution_count": 10,
   "metadata": {},
   "outputs": [],
   "source": [
    "schema = \"\"\"\n",
    "create table materials (\n",
    "    id int primary key,\n",
    "    material_id text not null,\n",
    "    formula text,\n",
    "    n_elements int,\n",
    "    composition text,\n",
    "    volume real,\n",
    "    density real,\n",
    "    atomic_density real,\n",
    "    symetry text,\n",
    "    symetry_symbol text,\n",
    "    symetry_number int,\n",
    "    is_stable boolean,\n",
    "    is_magnetic boolean,\n",
    "    is_metal boolean,\n",
    "    is_gap_direct boolean,\n",
    "    energy_per_atom real,\n",
    "    efermi real,\n",
    "    total_magnetization real,\n",
    "    lattice_structure json,\n",
    "    element_coords json,\n",
    "    dos_at_efermi real,\n",
    "    elements_dos_at_efermi json,\n",
    "    last_updated datetime,\n",
    "    deprecated boolean\n",
    ")\n",
    "\"\"\""
   ]
  },
  {
   "cell_type": "code",
   "execution_count": 15,
   "metadata": {},
   "outputs": [
    {
     "data": {
      "text/plain": [
       "{'Na': [0.23727301, 0.7877307, -0.0],\n",
       " 'Nb': [0.74305054, 0.77118186, 0.74917761],\n",
       " 'O': [0.67688228, 0.82421774, 0.5]}"
      ]
     },
     "execution_count": 15,
     "metadata": {},
     "output_type": "execute_result"
    }
   ],
   "source": [
    "all2.element_coords[4681]"
   ]
  },
  {
   "cell_type": "code",
   "execution_count": null,
   "metadata": {},
   "outputs": [],
   "source": [
    "import sqlite3\n",
    "import os\n",
    "\n",
    "\n",
    "def check_db(filename):\n",
    "    return os.path.exists(filename)\n",
    "\n",
    "\n",
    "db_file = \"mp_database.db\"\n",
    "\n",
    "if check_db(db_file):\n",
    "    print(\"Database already exists. Exiting...\")\n",
    "    exit(0)\n",
    "\n",
    "\n",
    "with sqlite3.connect(db_file) as conn:\n",
    "    print(\"Created the connection!\")\n",
    "    # Execute the SQL query to create the table\n",
    "    conn.executescript(schema)\n",
    "    print(\"Created the Table! Now inserting\")\n",
    "    conn.executescript(\n",
    "        \"\"\"\n",
    "                       insert into images (name, size, date)\n",
    "                       values\n",
    "                       {txt}\n",
    "                       \"\"\"\n",
    "    )\n",
    "    print(\"Inserted values into the table!\")\n",
    "print(\"Closed the connection!\")"
   ]
  },
  {
   "cell_type": "code",
   "execution_count": null,
   "metadata": {},
   "outputs": [],
   "source": []
  }
 ],
 "metadata": {
  "kernelspec": {
   "display_name": "Python 3",
   "language": "python",
   "name": "python3"
  },
  "language_info": {
   "codemirror_mode": {
    "name": "ipython",
    "version": 3
   },
   "file_extension": ".py",
   "mimetype": "text/x-python",
   "name": "python",
   "nbconvert_exporter": "python",
   "pygments_lexer": "ipython3",
   "version": "3.10.7"
  },
  "orig_nbformat": 4
 },
 "nbformat": 4,
 "nbformat_minor": 2
}
