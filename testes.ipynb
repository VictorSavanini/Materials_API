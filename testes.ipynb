{
 "cells": [
  {
   "cell_type": "code",
   "execution_count": 1,
   "metadata": {},
   "outputs": [],
   "source": [
    "import pandas as pd"
   ]
  },
  {
   "cell_type": "code",
   "execution_count": 2,
   "metadata": {},
   "outputs": [
    {
     "name": "stderr",
     "output_type": "stream",
     "text": [
      "c:\\Users\\vsavanini\\AppData\\Local\\Programs\\Python\\Python310\\lib\\site-packages\\scipy\\__init__.py:155: UserWarning: A NumPy version >=1.18.5 and <1.25.0 is required for this version of SciPy (detected version 1.26.0\n",
      "  warnings.warn(f\"A NumPy version >={np_minversion} and <{np_maxversion}\"\n",
      "c:\\Users\\vsavanini\\AppData\\Local\\Programs\\Python\\Python310\\lib\\site-packages\\tqdm\\auto.py:21: TqdmWarning: IProgress not found. Please update jupyter and ipywidgets. See https://ipywidgets.readthedocs.io/en/stable/user_install.html\n",
      "  from .autonotebook import tqdm as notebook_tqdm\n"
     ]
    }
   ],
   "source": [
    "from mp_api.client import MPRester"
   ]
  },
  {
   "cell_type": "code",
   "execution_count": 3,
   "metadata": {},
   "outputs": [],
   "source": [
    "key='qx3M9lC8cMaGU3gp0ZpKSPor69SxkCU9'"
   ]
  },
  {
   "cell_type": "code",
   "execution_count": 4,
   "metadata": {},
   "outputs": [
    {
     "name": "stderr",
     "output_type": "stream",
     "text": [
      "c:\\Users\\vsavanini\\AppData\\Local\\Programs\\Python\\Python310\\lib\\site-packages\\mp_api\\client\\mprester.py:182: UserWarning: mpcontribs-client not installed. Install the package to query MPContribs data, or construct pourbaix diagrams: 'pip install mpcontribs-client'\n",
      "  warnings.warn(\n",
      "Retrieving ElectronicStructureDoc documents: 100%|██████████| 1/1 [00:00<?, ?it/s]\n"
     ]
    },
    {
     "ename": "MPRestError",
     "evalue": "REST query returned with error status code 403 on URL https://api.materialsproject.org/materials/electronic_structure/bandstructure/object/?task_id=mp-1596653&_all_fields=True with message:\nResponse {\"error\": \"You are using deprecated API endpoints. Please read our documentation (https://docs.materialsproject.org) and upgrade to the latest version of the mp-api client (https://pypi.org/project/mp-api/).\", \"version\": \"blocked\"}",
     "output_type": "error",
     "traceback": [
      "\u001b[1;31m---------------------------------------------------------------------------\u001b[0m",
      "\u001b[1;31mMPRestError\u001b[0m                               Traceback (most recent call last)",
      "\u001b[1;32mc:\\Users\\vsavanini\\OneDrive - Quimica Amparo Ltda\\Documentos\\TCC\\Materials_API\\testes.ipynb Cell 4\u001b[0m line \u001b[0;36m3\n\u001b[0;32m      <a href='vscode-notebook-cell:/c%3A/Users/vsavanini/OneDrive%20-%20Quimica%20Amparo%20Ltda/Documentos/TCC/Materials_API/testes.ipynb#W3sZmlsZQ%3D%3D?line=0'>1</a>\u001b[0m api \u001b[39m=\u001b[39m MPRester(key)\n\u001b[1;32m----> <a href='vscode-notebook-cell:/c%3A/Users/vsavanini/OneDrive%20-%20Quimica%20Amparo%20Ltda/Documentos/TCC/Materials_API/testes.ipynb#W3sZmlsZQ%3D%3D?line=2'>3</a>\u001b[0m api\u001b[39m.\u001b[39mget_bandstructure_by_material_id(\u001b[39m\"\u001b[39m\u001b[39mmp-20470\u001b[39m\u001b[39m\"\u001b[39m)\n",
      "File \u001b[1;32mc:\\Users\\vsavanini\\AppData\\Local\\Programs\\Python\\Python310\\lib\\site-packages\\mp_api\\client\\mprester.py:1088\u001b[0m, in \u001b[0;36mMPRester.get_bandstructure_by_material_id\u001b[1;34m(self, material_id, path_type, line_mode)\u001b[0m\n\u001b[0;32m   1072\u001b[0m \u001b[39mdef\u001b[39;00m \u001b[39mget_bandstructure_by_material_id\u001b[39m(\n\u001b[0;32m   1073\u001b[0m     \u001b[39mself\u001b[39m,\n\u001b[0;32m   1074\u001b[0m     material_id: \u001b[39mstr\u001b[39m,\n\u001b[0;32m   1075\u001b[0m     path_type: BSPathType \u001b[39m=\u001b[39m BSPathType\u001b[39m.\u001b[39msetyawan_curtarolo,\n\u001b[0;32m   1076\u001b[0m     line_mode\u001b[39m=\u001b[39m\u001b[39mTrue\u001b[39;00m,\n\u001b[0;32m   1077\u001b[0m ):\n\u001b[0;32m   1078\u001b[0m     \u001b[39m\"\"\"Get the band structure pymatgen object associated with a Materials Project ID.\u001b[39;00m\n\u001b[0;32m   1079\u001b[0m \n\u001b[0;32m   1080\u001b[0m \u001b[39m    Arguments:\u001b[39;00m\n\u001b[1;32m   (...)\u001b[0m\n\u001b[0;32m   1086\u001b[0m \u001b[39m        bandstructure (Union[BandStructure, BandStructureSymmLine]): BandStructure or BandStructureSymmLine object\u001b[39;00m\n\u001b[0;32m   1087\u001b[0m \u001b[39m    \"\"\"\u001b[39;00m\n\u001b[1;32m-> 1088\u001b[0m     \u001b[39mreturn\u001b[39;00m \u001b[39mself\u001b[39;49m\u001b[39m.\u001b[39;49melectronic_structure_bandstructure\u001b[39m.\u001b[39;49mget_bandstructure_from_material_id(  \u001b[39m# type: ignore\u001b[39;49;00m\n\u001b[0;32m   1089\u001b[0m         material_id\u001b[39m=\u001b[39;49mmaterial_id, path_type\u001b[39m=\u001b[39;49mpath_type, line_mode\u001b[39m=\u001b[39;49mline_mode\n\u001b[0;32m   1090\u001b[0m     )\n",
      "File \u001b[1;32mc:\\Users\\vsavanini\\AppData\\Local\\Programs\\Python\\Python310\\lib\\site-packages\\mp_api\\client\\routes\\electronic_structure.py:322\u001b[0m, in \u001b[0;36mBandStructureRester.get_bandstructure_from_material_id\u001b[1;34m(self, material_id, path_type, line_mode)\u001b[0m\n\u001b[0;32m    317\u001b[0m     \u001b[39melse\u001b[39;00m:\n\u001b[0;32m    318\u001b[0m         \u001b[39mraise\u001b[39;00m MPRestError(\n\u001b[0;32m    319\u001b[0m             \u001b[39mf\u001b[39m\u001b[39m\"\u001b[39m\u001b[39mNo uniform band structure data found for \u001b[39m\u001b[39m{\u001b[39;00mmaterial_id\u001b[39m}\u001b[39;00m\u001b[39m\"\u001b[39m\n\u001b[0;32m    320\u001b[0m         )\n\u001b[1;32m--> 322\u001b[0m bs_obj \u001b[39m=\u001b[39m \u001b[39mself\u001b[39;49m\u001b[39m.\u001b[39;49mget_bandstructure_from_task_id(bs_task_id)\n\u001b[0;32m    324\u001b[0m \u001b[39mif\u001b[39;00m bs_obj:\n\u001b[0;32m    325\u001b[0m     b64_bytes \u001b[39m=\u001b[39m base64\u001b[39m.\u001b[39mb64decode(bs_obj[\u001b[39m0\u001b[39m], validate\u001b[39m=\u001b[39m\u001b[39mTrue\u001b[39;00m)\n",
      "File \u001b[1;32mc:\\Users\\vsavanini\\AppData\\Local\\Programs\\Python\\Python310\\lib\\site-packages\\mp_api\\client\\routes\\electronic_structure.py:252\u001b[0m, in \u001b[0;36mBandStructureRester.get_bandstructure_from_task_id\u001b[1;34m(self, task_id)\u001b[0m\n\u001b[0;32m    243\u001b[0m \u001b[39mdef\u001b[39;00m \u001b[39mget_bandstructure_from_task_id\u001b[39m(\u001b[39mself\u001b[39m, task_id: \u001b[39mstr\u001b[39m):\n\u001b[0;32m    244\u001b[0m     \u001b[39m\"\"\"Get the band structure pymatgen object associated with a given task ID.\u001b[39;00m\n\u001b[0;32m    245\u001b[0m \n\u001b[0;32m    246\u001b[0m \u001b[39m    Arguments:\u001b[39;00m\n\u001b[1;32m   (...)\u001b[0m\n\u001b[0;32m    250\u001b[0m \u001b[39m        bandstructure (BandStructure): BandStructure or BandStructureSymmLine object\u001b[39;00m\n\u001b[0;32m    251\u001b[0m \u001b[39m    \"\"\"\u001b[39;00m\n\u001b[1;32m--> 252\u001b[0m     result \u001b[39m=\u001b[39m \u001b[39mself\u001b[39;49m\u001b[39m.\u001b[39;49m_query_resource(\n\u001b[0;32m    253\u001b[0m         criteria\u001b[39m=\u001b[39;49m{\u001b[39m\"\u001b[39;49m\u001b[39mtask_id\u001b[39;49m\u001b[39m\"\u001b[39;49m: task_id, \u001b[39m\"\u001b[39;49m\u001b[39m_all_fields\u001b[39;49m\u001b[39m\"\u001b[39;49m: \u001b[39mTrue\u001b[39;49;00m},\n\u001b[0;32m    254\u001b[0m         suburl\u001b[39m=\u001b[39;49m\u001b[39m\"\u001b[39;49m\u001b[39mobject\u001b[39;49m\u001b[39m\"\u001b[39;49m,\n\u001b[0;32m    255\u001b[0m         use_document_model\u001b[39m=\u001b[39;49m\u001b[39mFalse\u001b[39;49;00m,\n\u001b[0;32m    256\u001b[0m         num_chunks\u001b[39m=\u001b[39;49m\u001b[39m1\u001b[39;49m,\n\u001b[0;32m    257\u001b[0m         chunk_size\u001b[39m=\u001b[39;49m\u001b[39m1\u001b[39;49m,\n\u001b[0;32m    258\u001b[0m     )\n\u001b[0;32m    260\u001b[0m     \u001b[39mif\u001b[39;00m result\u001b[39m.\u001b[39mget(\u001b[39m\"\u001b[39m\u001b[39mdata\u001b[39m\u001b[39m\"\u001b[39m, \u001b[39mNone\u001b[39;00m) \u001b[39mis\u001b[39;00m \u001b[39mnot\u001b[39;00m \u001b[39mNone\u001b[39;00m:\n\u001b[0;32m    261\u001b[0m         \u001b[39mreturn\u001b[39;00m result[\u001b[39m\"\u001b[39m\u001b[39mdata\u001b[39m\u001b[39m\"\u001b[39m]\n",
      "File \u001b[1;32mc:\\Users\\vsavanini\\AppData\\Local\\Programs\\Python\\Python310\\lib\\site-packages\\mp_api\\client\\core\\client.py:288\u001b[0m, in \u001b[0;36mBaseRester._query_resource\u001b[1;34m(self, criteria, fields, suburl, use_document_model, parallel_param, num_chunks, chunk_size, timeout)\u001b[0m\n\u001b[0;32m    285\u001b[0m         \u001b[39mif\u001b[39;00m \u001b[39mnot\u001b[39;00m url\u001b[39m.\u001b[39mendswith(\u001b[39m\"\u001b[39m\u001b[39m/\u001b[39m\u001b[39m\"\u001b[39m):\n\u001b[0;32m    286\u001b[0m             url \u001b[39m+\u001b[39m\u001b[39m=\u001b[39m \u001b[39m\"\u001b[39m\u001b[39m/\u001b[39m\u001b[39m\"\u001b[39m\n\u001b[1;32m--> 288\u001b[0m     data \u001b[39m=\u001b[39m \u001b[39mself\u001b[39;49m\u001b[39m.\u001b[39;49m_submit_requests(\n\u001b[0;32m    289\u001b[0m         url\u001b[39m=\u001b[39;49murl,\n\u001b[0;32m    290\u001b[0m         criteria\u001b[39m=\u001b[39;49mcriteria,\n\u001b[0;32m    291\u001b[0m         use_document_model\u001b[39m=\u001b[39;49muse_document_model,\n\u001b[0;32m    292\u001b[0m         parallel_param\u001b[39m=\u001b[39;49mparallel_param,\n\u001b[0;32m    293\u001b[0m         num_chunks\u001b[39m=\u001b[39;49mnum_chunks,\n\u001b[0;32m    294\u001b[0m         chunk_size\u001b[39m=\u001b[39;49mchunk_size,\n\u001b[0;32m    295\u001b[0m         timeout\u001b[39m=\u001b[39;49mtimeout,\n\u001b[0;32m    296\u001b[0m     )\n\u001b[0;32m    298\u001b[0m     \u001b[39mreturn\u001b[39;00m data\n\u001b[0;32m    300\u001b[0m \u001b[39mexcept\u001b[39;00m RequestException \u001b[39mas\u001b[39;00m ex:\n",
      "File \u001b[1;32mc:\\Users\\vsavanini\\AppData\\Local\\Programs\\Python\\Python310\\lib\\site-packages\\mp_api\\client\\core\\client.py:429\u001b[0m, in \u001b[0;36mBaseRester._submit_requests\u001b[1;34m(self, url, criteria, use_document_model, parallel_param, num_chunks, chunk_size, timeout)\u001b[0m\n\u001b[0;32m    423\u001b[0m remaining_docs_avail \u001b[39m=\u001b[39m {}\n\u001b[0;32m    425\u001b[0m initial_params_list \u001b[39m=\u001b[39m [\n\u001b[0;32m    426\u001b[0m     {\u001b[39m\"\u001b[39m\u001b[39murl\u001b[39m\u001b[39m\"\u001b[39m: url, \u001b[39m\"\u001b[39m\u001b[39mverify\u001b[39m\u001b[39m\"\u001b[39m: \u001b[39mTrue\u001b[39;00m, \u001b[39m\"\u001b[39m\u001b[39mparams\u001b[39m\u001b[39m\"\u001b[39m: copy(crit)} \u001b[39mfor\u001b[39;00m crit \u001b[39min\u001b[39;00m new_criteria\n\u001b[0;32m    427\u001b[0m ]\n\u001b[1;32m--> 429\u001b[0m initial_data_tuples \u001b[39m=\u001b[39m \u001b[39mself\u001b[39;49m\u001b[39m.\u001b[39;49m_multi_thread(\n\u001b[0;32m    430\u001b[0m     use_document_model, initial_params_list\n\u001b[0;32m    431\u001b[0m )\n\u001b[0;32m    433\u001b[0m \u001b[39mfor\u001b[39;00m data, subtotal, crit_ind \u001b[39min\u001b[39;00m initial_data_tuples:\n\u001b[0;32m    434\u001b[0m     subtotals\u001b[39m.\u001b[39mappend(subtotal)\n",
      "File \u001b[1;32mc:\\Users\\vsavanini\\AppData\\Local\\Programs\\Python\\Python310\\lib\\site-packages\\mp_api\\client\\core\\client.py:643\u001b[0m, in \u001b[0;36mBaseRester._multi_thread\u001b[1;34m(self, use_document_model, params_list, progress_bar, timeout)\u001b[0m\n\u001b[0;32m    640\u001b[0m finished, futures \u001b[39m=\u001b[39m wait(futures, return_when\u001b[39m=\u001b[39mFIRST_COMPLETED)\n\u001b[0;32m    642\u001b[0m \u001b[39mfor\u001b[39;00m future \u001b[39min\u001b[39;00m finished:\n\u001b[1;32m--> 643\u001b[0m     data, subtotal \u001b[39m=\u001b[39m future\u001b[39m.\u001b[39;49mresult()\n\u001b[0;32m    645\u001b[0m     \u001b[39mif\u001b[39;00m progress_bar \u001b[39mis\u001b[39;00m \u001b[39mnot\u001b[39;00m \u001b[39mNone\u001b[39;00m:\n\u001b[0;32m    646\u001b[0m         progress_bar\u001b[39m.\u001b[39mupdate(\u001b[39mlen\u001b[39m(data[\u001b[39m\"\u001b[39m\u001b[39mdata\u001b[39m\u001b[39m\"\u001b[39m]))\n",
      "File \u001b[1;32mc:\\Users\\vsavanini\\AppData\\Local\\Programs\\Python\\Python310\\lib\\concurrent\\futures\\_base.py:451\u001b[0m, in \u001b[0;36mFuture.result\u001b[1;34m(self, timeout)\u001b[0m\n\u001b[0;32m    449\u001b[0m     \u001b[39mraise\u001b[39;00m CancelledError()\n\u001b[0;32m    450\u001b[0m \u001b[39melif\u001b[39;00m \u001b[39mself\u001b[39m\u001b[39m.\u001b[39m_state \u001b[39m==\u001b[39m FINISHED:\n\u001b[1;32m--> 451\u001b[0m     \u001b[39mreturn\u001b[39;00m \u001b[39mself\u001b[39;49m\u001b[39m.\u001b[39;49m__get_result()\n\u001b[0;32m    453\u001b[0m \u001b[39mself\u001b[39m\u001b[39m.\u001b[39m_condition\u001b[39m.\u001b[39mwait(timeout)\n\u001b[0;32m    455\u001b[0m \u001b[39mif\u001b[39;00m \u001b[39mself\u001b[39m\u001b[39m.\u001b[39m_state \u001b[39min\u001b[39;00m [CANCELLED, CANCELLED_AND_NOTIFIED]:\n",
      "File \u001b[1;32mc:\\Users\\vsavanini\\AppData\\Local\\Programs\\Python\\Python310\\lib\\concurrent\\futures\\_base.py:403\u001b[0m, in \u001b[0;36mFuture.__get_result\u001b[1;34m(self)\u001b[0m\n\u001b[0;32m    401\u001b[0m \u001b[39mif\u001b[39;00m \u001b[39mself\u001b[39m\u001b[39m.\u001b[39m_exception:\n\u001b[0;32m    402\u001b[0m     \u001b[39mtry\u001b[39;00m:\n\u001b[1;32m--> 403\u001b[0m         \u001b[39mraise\u001b[39;00m \u001b[39mself\u001b[39m\u001b[39m.\u001b[39m_exception\n\u001b[0;32m    404\u001b[0m     \u001b[39mfinally\u001b[39;00m:\n\u001b[0;32m    405\u001b[0m         \u001b[39m# Break a reference cycle with the exception in self._exception\u001b[39;00m\n\u001b[0;32m    406\u001b[0m         \u001b[39mself\u001b[39m \u001b[39m=\u001b[39m \u001b[39mNone\u001b[39;00m\n",
      "File \u001b[1;32mc:\\Users\\vsavanini\\AppData\\Local\\Programs\\Python\\Python310\\lib\\concurrent\\futures\\thread.py:58\u001b[0m, in \u001b[0;36m_WorkItem.run\u001b[1;34m(self)\u001b[0m\n\u001b[0;32m     55\u001b[0m     \u001b[39mreturn\u001b[39;00m\n\u001b[0;32m     57\u001b[0m \u001b[39mtry\u001b[39;00m:\n\u001b[1;32m---> 58\u001b[0m     result \u001b[39m=\u001b[39m \u001b[39mself\u001b[39m\u001b[39m.\u001b[39mfn(\u001b[39m*\u001b[39m\u001b[39mself\u001b[39m\u001b[39m.\u001b[39margs, \u001b[39m*\u001b[39m\u001b[39m*\u001b[39m\u001b[39mself\u001b[39m\u001b[39m.\u001b[39mkwargs)\n\u001b[0;32m     59\u001b[0m \u001b[39mexcept\u001b[39;00m \u001b[39mBaseException\u001b[39;00m \u001b[39mas\u001b[39;00m exc:\n\u001b[0;32m     60\u001b[0m     \u001b[39mself\u001b[39m\u001b[39m.\u001b[39mfuture\u001b[39m.\u001b[39mset_exception(exc)\n",
      "File \u001b[1;32mc:\\Users\\vsavanini\\AppData\\Local\\Programs\\Python\\Python310\\lib\\site-packages\\mp_api\\client\\core\\client.py:745\u001b[0m, in \u001b[0;36mBaseRester._submit_request_and_process\u001b[1;34m(self, url, verify, params, use_document_model, timeout)\u001b[0m\n\u001b[0;32m    742\u001b[0m     \u001b[39mexcept\u001b[39;00m (\u001b[39mKeyError\u001b[39;00m, \u001b[39mIndexError\u001b[39;00m):\n\u001b[0;32m    743\u001b[0m         message \u001b[39m=\u001b[39m \u001b[39mstr\u001b[39m(data)\n\u001b[1;32m--> 745\u001b[0m \u001b[39mraise\u001b[39;00m MPRestError(\n\u001b[0;32m    746\u001b[0m     \u001b[39mf\u001b[39m\u001b[39m\"\u001b[39m\u001b[39mREST query returned with error status code \u001b[39m\u001b[39m{\u001b[39;00mresponse\u001b[39m.\u001b[39mstatus_code\u001b[39m}\u001b[39;00m\u001b[39m \u001b[39m\u001b[39m\"\u001b[39m\n\u001b[0;32m    747\u001b[0m     \u001b[39mf\u001b[39m\u001b[39m\"\u001b[39m\u001b[39mon URL \u001b[39m\u001b[39m{\u001b[39;00mresponse\u001b[39m.\u001b[39murl\u001b[39m}\u001b[39;00m\u001b[39m with message:\u001b[39m\u001b[39m\\n\u001b[39;00m\u001b[39m{\u001b[39;00mmessage\u001b[39m}\u001b[39;00m\u001b[39m\"\u001b[39m\n\u001b[0;32m    748\u001b[0m )\n",
      "\u001b[1;31mMPRestError\u001b[0m: REST query returned with error status code 403 on URL https://api.materialsproject.org/materials/electronic_structure/bandstructure/object/?task_id=mp-1596653&_all_fields=True with message:\nResponse {\"error\": \"You are using deprecated API endpoints. Please read our documentation (https://docs.materialsproject.org) and upgrade to the latest version of the mp-api client (https://pypi.org/project/mp-api/).\", \"version\": \"blocked\"}"
     ]
    }
   ],
   "source": [
    "api = MPRester(key)\n",
    "\n",
    "api.get_bandstructure_by_material_id(\"mp-20470\")"
   ]
  },
  {
   "cell_type": "code",
   "execution_count": null,
   "metadata": {},
   "outputs": [],
   "source": [
    "dos"
   ]
  },
  {
   "cell_type": "code",
   "execution_count": null,
   "metadata": {},
   "outputs": [],
   "source": [
    "5"
   ]
  }
 ],
 "metadata": {
  "kernelspec": {
   "display_name": "Python 3",
   "language": "python",
   "name": "python3"
  },
  "language_info": {
   "codemirror_mode": {
    "name": "ipython",
    "version": 3
   },
   "file_extension": ".py",
   "mimetype": "text/x-python",
   "name": "python",
   "nbconvert_exporter": "python",
   "pygments_lexer": "ipython3",
   "version": "3.10.7"
  },
  "orig_nbformat": 4
 },
 "nbformat": 4,
 "nbformat_minor": 2
}
